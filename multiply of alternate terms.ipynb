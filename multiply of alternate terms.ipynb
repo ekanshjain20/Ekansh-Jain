{
 "cells": [
  {
   "cell_type": "code",
   "execution_count": 20,
   "metadata": {},
   "outputs": [
    {
     "name": "stdout",
     "output_type": "stream",
     "text": [
      "enetr the length of list7\n",
      "give me the number in the list2\n",
      "give me the number in the list3\n",
      "give me the number in the list4\n",
      "give me the number in the list5\n",
      "give me the number in the list6\n",
      "give me the number in the list7\n",
      "give me the number in the list8\n",
      "[2, 3, 4, 5, 6, 7, 8]\n",
      "[8, 15, 24, 35, 48]\n"
     ]
    }
   ],
   "source": [
    "\n",
    "n=int(input(\"enetr the length of list\"))\n",
    "list=[]\n",
    "for i in range (0,n):\n",
    "    number=int(input(\"give me the number in the list\"))\n",
    "    list.append(number)\n",
    "print (list)\n",
    "list1=[]\n",
    "for i in range(0,n-2):\n",
    "  #  if(i<n-1):\n",
    "    x=list[i]*list[i+2]\n",
    "   # if(i==n-1):\n",
    "       # x=list[n-1]*list[0]\n",
    "    #elif(i==n):\n",
    "        #x=list[n]*list[1]\n",
    "    list1.append(x)\n",
    "print(list1)"
   ]
  },
  {
   "cell_type": "markdown",
   "metadata": {},
   "source": [
    "##### list=[2,43,5,6,7]\n",
    "print(list[2])"
   ]
  },
  {
   "cell_type": "code",
   "execution_count": null,
   "metadata": {},
   "outputs": [],
   "source": []
  }
 ],
 "metadata": {
  "kernelspec": {
   "display_name": "Python 3",
   "language": "python",
   "name": "python3"
  },
  "language_info": {
   "codemirror_mode": {
    "name": "ipython",
    "version": 3
   },
   "file_extension": ".py",
   "mimetype": "text/x-python",
   "name": "python",
   "nbconvert_exporter": "python",
   "pygments_lexer": "ipython3",
   "version": "3.7.0"
  }
 },
 "nbformat": 4,
 "nbformat_minor": 2
}
